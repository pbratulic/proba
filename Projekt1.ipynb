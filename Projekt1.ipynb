{
  "nbformat": 4,
  "nbformat_minor": 0,
  "metadata": {
    "colab": {
      "name": "Projekt1.ipynb",
      "version": "0.3.2",
      "provenance": [],
      "collapsed_sections": []
    },
    "kernelspec": {
      "name": "python3",
      "display_name": "Python 3"
    },
    "accelerator": "GPU"
  },
  "cells": [
    {
      "cell_type": "code",
      "metadata": {
        "id": "JEBMWry9-l-J",
        "colab_type": "code",
        "outputId": "51857e47-da6c-4240-f197-8051d0b66a5a",
        "colab": {
          "base_uri": "https://localhost:8080/",
          "height": 129
        }
      },
      "source": [
        "from google.colab import drive\n",
        "\n",
        "# This will prompt for authorization.\n",
        "drive.mount('/content/drive')"
      ],
      "execution_count": 0,
      "outputs": [
        {
          "output_type": "stream",
          "text": [
            "Go to this URL in a browser: https://accounts.google.com/o/oauth2/auth?client_id=947318989803-6bn6qk8qdgf4n4g3pfee6491hc0brc4i.apps.googleusercontent.com&redirect_uri=urn%3Aietf%3Awg%3Aoauth%3A2.0%3Aoob&scope=email%20https%3A%2F%2Fwww.googleapis.com%2Fauth%2Fdocs.test%20https%3A%2F%2Fwww.googleapis.com%2Fauth%2Fdrive%20https%3A%2F%2Fwww.googleapis.com%2Fauth%2Fdrive.photos.readonly%20https%3A%2F%2Fwww.googleapis.com%2Fauth%2Fpeopleapi.readonly&response_type=code\n",
            "\n",
            "Enter your authorization code:\n",
            "··········\n",
            "Mounted at /content/drive\n"
          ],
          "name": "stdout"
        }
      ]
    },
    {
      "cell_type": "code",
      "metadata": {
        "id": "7UH6LPiNEvzA",
        "colab_type": "code",
        "colab": {}
      },
      "source": [
        "import pandas as pd\n",
        "import numpy as np\n",
        "#izracunati udio koliko ih je u zraku i na papiru"
      ],
      "execution_count": 0,
      "outputs": []
    },
    {
      "cell_type": "code",
      "metadata": {
        "id": "_aIxNVN52XDD",
        "colab_type": "code",
        "outputId": "b821cb61-2a01-4cc3-8c8f-eac1d9a5a63d",
        "colab": {
          "base_uri": "https://localhost:8080/",
          "height": 202
        }
      },
      "source": [
        "!pip install ipython-autotime\n",
        "\n",
        "%load_ext autotime"
      ],
      "execution_count": 2,
      "outputs": [
        {
          "output_type": "stream",
          "text": [
            "Collecting ipython-autotime\n",
            "  Downloading https://files.pythonhosted.org/packages/e6/f9/0626bbdb322e3a078d968e87e3b01341e7890544de891d0cb613641220e6/ipython-autotime-0.1.tar.bz2\n",
            "Building wheels for collected packages: ipython-autotime\n",
            "  Building wheel for ipython-autotime (setup.py) ... \u001b[?25l\u001b[?25hdone\n",
            "  Created wheel for ipython-autotime: filename=ipython_autotime-0.1-cp36-none-any.whl size=1831 sha256=a08cc467c8522b9ef9d5d7ff8291e3c9e1eef1add829384f02223efda5ee2b14\n",
            "  Stored in directory: /root/.cache/pip/wheels/d2/df/81/2db1e54bc91002cec40334629bc39cfa86dff540b304ebcd6e\n",
            "Successfully built ipython-autotime\n",
            "Installing collected packages: ipython-autotime\n",
            "Successfully installed ipython-autotime-0.1\n"
          ],
          "name": "stdout"
        }
      ]
    },
    {
      "cell_type": "code",
      "metadata": {
        "id": "XdBRPgFRbrZJ",
        "colab_type": "code",
        "colab": {
          "base_uri": "https://localhost:8080/",
          "height": 35
        },
        "outputId": "fd8d217d-7a12-44bb-81a0-de6d09589d86"
      },
      "source": [
        "2+2"
      ],
      "execution_count": 3,
      "outputs": [
        {
          "output_type": "execute_result",
          "data": {
            "text/plain": [
              "4"
            ]
          },
          "metadata": {
            "tags": []
          },
          "execution_count": 3
        },
        {
          "output_type": "stream",
          "text": [
            "time: 6.54 ms\n"
          ],
          "name": "stdout"
        }
      ]
    },
    {
      "cell_type": "code",
      "metadata": {
        "id": "CBLHxYE_WWuX",
        "colab_type": "code",
        "outputId": "94355c57-639b-436c-dd54-4a5ba12560b6",
        "colab": {
          "base_uri": "https://localhost:8080/",
          "height": 35
        }
      },
      "source": [
        "proba_data = pd.read_csv('/content/drive/My Drive/u00020s00001_hw00002.svc', delim_whitespace=True, skiprows=[0], header=None)"
      ],
      "execution_count": 0,
      "outputs": [
        {
          "output_type": "stream",
          "text": [
            "time: 418 ms\n"
          ],
          "name": "stdout"
        }
      ]
    },
    {
      "cell_type": "code",
      "metadata": {
        "id": "MkpJ1zRTXcfp",
        "colab_type": "code",
        "outputId": "2f7f22d1-871d-4455-c199-463054562768",
        "colab": {
          "base_uri": "https://localhost:8080/",
          "height": 225
        }
      },
      "source": [
        "proba_data.head(5)"
      ],
      "execution_count": 0,
      "outputs": [
        {
          "output_type": "execute_result",
          "data": {
            "text/html": [
              "<div>\n",
              "<style scoped>\n",
              "    .dataframe tbody tr th:only-of-type {\n",
              "        vertical-align: middle;\n",
              "    }\n",
              "\n",
              "    .dataframe tbody tr th {\n",
              "        vertical-align: top;\n",
              "    }\n",
              "\n",
              "    .dataframe thead th {\n",
              "        text-align: right;\n",
              "    }\n",
              "</style>\n",
              "<table border=\"1\" class=\"dataframe\">\n",
              "  <thead>\n",
              "    <tr style=\"text-align: right;\">\n",
              "      <th></th>\n",
              "      <th>0</th>\n",
              "      <th>1</th>\n",
              "      <th>2</th>\n",
              "      <th>3</th>\n",
              "      <th>4</th>\n",
              "      <th>5</th>\n",
              "      <th>6</th>\n",
              "    </tr>\n",
              "  </thead>\n",
              "  <tbody>\n",
              "    <tr>\n",
              "      <th>0</th>\n",
              "      <td>50137</td>\n",
              "      <td>7719</td>\n",
              "      <td>12291055</td>\n",
              "      <td>1</td>\n",
              "      <td>1970</td>\n",
              "      <td>560</td>\n",
              "      <td>14</td>\n",
              "    </tr>\n",
              "    <tr>\n",
              "      <th>1</th>\n",
              "      <td>50150</td>\n",
              "      <td>7719</td>\n",
              "      <td>12291063</td>\n",
              "      <td>1</td>\n",
              "      <td>1970</td>\n",
              "      <td>560</td>\n",
              "      <td>43</td>\n",
              "    </tr>\n",
              "    <tr>\n",
              "      <th>2</th>\n",
              "      <td>50155</td>\n",
              "      <td>7719</td>\n",
              "      <td>12291070</td>\n",
              "      <td>1</td>\n",
              "      <td>1970</td>\n",
              "      <td>560</td>\n",
              "      <td>67</td>\n",
              "    </tr>\n",
              "    <tr>\n",
              "      <th>3</th>\n",
              "      <td>50160</td>\n",
              "      <td>7719</td>\n",
              "      <td>12291078</td>\n",
              "      <td>1</td>\n",
              "      <td>1970</td>\n",
              "      <td>560</td>\n",
              "      <td>81</td>\n",
              "    </tr>\n",
              "    <tr>\n",
              "      <th>4</th>\n",
              "      <td>50165</td>\n",
              "      <td>7719</td>\n",
              "      <td>12291085</td>\n",
              "      <td>1</td>\n",
              "      <td>1970</td>\n",
              "      <td>560</td>\n",
              "      <td>99</td>\n",
              "    </tr>\n",
              "  </tbody>\n",
              "</table>\n",
              "</div>"
            ],
            "text/plain": [
              "       0     1         2  3     4    5   6\n",
              "0  50137  7719  12291055  1  1970  560  14\n",
              "1  50150  7719  12291063  1  1970  560  43\n",
              "2  50155  7719  12291070  1  1970  560  67\n",
              "3  50160  7719  12291078  1  1970  560  81\n",
              "4  50165  7719  12291085  1  1970  560  99"
            ]
          },
          "metadata": {
            "tags": []
          },
          "execution_count": 5
        },
        {
          "output_type": "stream",
          "text": [
            "time: 25.6 ms\n"
          ],
          "name": "stdout"
        }
      ]
    },
    {
      "cell_type": "markdown",
      "metadata": {
        "id": "muDx6AvPuV35",
        "colab_type": "text"
      },
      "source": [
        "Računanje ukupnog vremena, prosječnog pritiska i razlike pritiska. Broj poteza na papiru i u zraku."
      ]
    },
    {
      "cell_type": "code",
      "metadata": {
        "id": "q3s0IDFOYJ42",
        "colab_type": "code",
        "outputId": "5af6cc52-1aae-4041-c409-ea28109a54a5",
        "colab": {
          "base_uri": "https://localhost:8080/",
          "height": 147
        }
      },
      "source": [
        "proba_data = proba_data.rename(columns={0: \"X_pos\", 1: \"Y_pos\", 2: \"TimeStamp\", 3: \"Status\", 4: \"Azimuth\", 5: \"Altitude\", 6: \"Pressure\"})\n",
        "time = np.max(proba_data[\"TimeStamp\"])-np.min(proba_data[\"TimeStamp\"])\n",
        "proba_data[\"ShiftStatus\"] = proba_data[\"Status\"].shift(-1)\n",
        "proba_data[\"ShiftStatus\"].loc[np.size(proba_data,0)-1]=1\n",
        "proba_data[\"ShiftStatus\"] = proba_data[\"ShiftStatus\"] - proba_data[\"Status\"]\n",
        "press_data = proba_data[proba_data[\"Pressure\"]!=0]\n",
        "press_mean = press_data[\"Pressure\"].mean()\n",
        "press_min = press_data[\"Pressure\"].min()\n",
        "press_max = press_data[\"Pressure\"].max()\n",
        "stroke_air = np.size(proba_data[proba_data[\"ShiftStatus\"]==-1],0)\n",
        "stroke_paper = np.size(proba_data[proba_data[\"ShiftStatus\"]==1],0)"
      ],
      "execution_count": 0,
      "outputs": [
        {
          "output_type": "stream",
          "text": [
            "time: 101 ms\n"
          ],
          "name": "stdout"
        },
        {
          "output_type": "stream",
          "text": [
            "/usr/local/lib/python3.6/dist-packages/pandas/core/indexing.py:190: SettingWithCopyWarning: \n",
            "A value is trying to be set on a copy of a slice from a DataFrame\n",
            "\n",
            "See the caveats in the documentation: http://pandas.pydata.org/pandas-docs/stable/indexing.html#indexing-view-versus-copy\n",
            "  self._setitem_with_indexer(indexer, value)\n"
          ],
          "name": "stderr"
        }
      ]
    },
    {
      "cell_type": "markdown",
      "metadata": {
        "id": "6Rewo_NkuoHn",
        "colab_type": "text"
      },
      "source": [
        "Izračunate prosječne brzine za poteze u zraku i na papiru, udio točaka na papiru i u zraku."
      ]
    },
    {
      "cell_type": "code",
      "metadata": {
        "id": "DP3WLdS89sem",
        "colab_type": "code",
        "outputId": "824be719-61e7-4309-e8e3-6a1b3e4e1752",
        "colab": {
          "base_uri": "https://localhost:8080/",
          "height": 35
        }
      },
      "source": [
        "proba_data[\"ShiftX\"] = proba_data[\"X_pos\"].shift(-1)\n",
        "proba_data[\"ShiftY\"] = proba_data[\"Y_pos\"].shift(-1)\n",
        "proba_data[\"ShiftTime\"] = proba_data[\"TimeStamp\"].shift(-1)\n",
        "\n",
        "proba_data.at[proba_data.index[-1], 'ShiftTime'] = proba_data.at[proba_data.index[-1], 'TimeStamp']\n",
        "proba_data.at[proba_data.index[-1], 'ShiftX'] = proba_data.at[proba_data.index[-1], 'X_pos']\n",
        "proba_data.at[proba_data.index[-1], 'ShiftY'] = proba_data.at[proba_data.index[-1], 'Y_pos']\n",
        "proba_data[\"ShiftTime\"] = proba_data[\"ShiftTime\"] - proba_data[\"TimeStamp\"]\n",
        "proba_data[\"ShiftX\"] = proba_data[\"ShiftX\"] - proba_data[\"X_pos\"]\n",
        "proba_data[\"ShiftY\"] = proba_data[\"ShiftY\"] - proba_data[\"Y_pos\"]\n",
        "proba_data[\"Brzina\"] = np.sqrt(proba_data[\"ShiftX\"] * proba_data[\"ShiftX\"] + proba_data[\"ShiftY\"] * proba_data[\"ShiftY\"])\n",
        "#proba_data[\"Brzina\"] = proba_data[\"Brzina\"]/proba_data[\"ShiftTime\"]"
      ],
      "execution_count": 0,
      "outputs": [
        {
          "output_type": "stream",
          "text": [
            "time: 22.2 ms\n"
          ],
          "name": "stdout"
        }
      ]
    },
    {
      "cell_type": "code",
      "metadata": {
        "id": "aNuga06D_jKo",
        "colab_type": "code",
        "outputId": "f3d5a0d4-bfe6-434e-c1f8-35d72fe95fbd",
        "colab": {
          "base_uri": "https://localhost:8080/",
          "height": 35
        }
      },
      "source": [
        "proba_data[\"Brzina\"] = proba_data[\"Brzina\"]/proba_data[\"ShiftTime\"]"
      ],
      "execution_count": 0,
      "outputs": [
        {
          "output_type": "stream",
          "text": [
            "time: 3.62 ms\n"
          ],
          "name": "stdout"
        }
      ]
    },
    {
      "cell_type": "code",
      "metadata": {
        "id": "Tg3RkGd7_3t5",
        "colab_type": "code",
        "outputId": "65b894fd-3349-48e1-f1d1-02aefc7e33e3",
        "colab": {
          "base_uri": "https://localhost:8080/",
          "height": 35
        }
      },
      "source": [
        "on_paper = proba_data[proba_data[\"Status\"] == 1]\n",
        "brzina_paper = on_paper[\"Brzina\"].sum()/np.size(on_paper[\"Brzina\"],0)\n",
        "in_air = proba_data[proba_data[\"Status\"] == 0]\n",
        "brzina_zrak = in_air[\"Brzina\"].sum()/np.size(in_air[\"Brzina\"],0)"
      ],
      "execution_count": 0,
      "outputs": [
        {
          "output_type": "stream",
          "text": [
            "time: 11.8 ms\n"
          ],
          "name": "stdout"
        }
      ]
    },
    {
      "cell_type": "code",
      "metadata": {
        "id": "yBWlnPzSsL1Z",
        "colab_type": "code",
        "outputId": "ab51a4cd-2c39-4c59-e0f9-12bdb0c53aca",
        "colab": {
          "base_uri": "https://localhost:8080/",
          "height": 35
        }
      },
      "source": [
        "PerInAir = np.size(in_air,0)/np.size(proba_data,0)\n",
        "PerOnPaper = np.size(on_paper,0)/np.size(proba_data,0)"
      ],
      "execution_count": 0,
      "outputs": [
        {
          "output_type": "stream",
          "text": [
            "time: 4.96 ms\n"
          ],
          "name": "stdout"
        }
      ]
    },
    {
      "cell_type": "code",
      "metadata": {
        "id": "Eoh3GIQIs6GC",
        "colab_type": "code",
        "outputId": "2898d1a3-1a09-4947-8b36-fa327cfe87d8",
        "colab": {
          "base_uri": "https://localhost:8080/",
          "height": 72
        }
      },
      "source": [
        "print(PerInAir)\n",
        "print(PerOnPaper)"
      ],
      "execution_count": 0,
      "outputs": [
        {
          "output_type": "stream",
          "text": [
            "0.48117671261057393\n",
            "0.5188232873894261\n",
            "time: 1.91 ms\n"
          ],
          "name": "stdout"
        }
      ]
    },
    {
      "cell_type": "markdown",
      "metadata": {
        "id": "Zg7CwHaZu_2a",
        "colab_type": "text"
      },
      "source": [
        "Izračunata vremena provedena na papiru i u zraku."
      ]
    },
    {
      "cell_type": "code",
      "metadata": {
        "id": "HpB-rEoJjyUU",
        "colab_type": "code",
        "outputId": "a5cf9502-5b96-4705-d691-db065d486695",
        "colab": {
          "base_uri": "https://localhost:8080/",
          "height": 276
        }
      },
      "source": [
        "StatusChangeData = proba_data[proba_data[\"ShiftStatus\"]!=0]\n",
        "StatusChangeData[\"TimeDiff\"] = StatusChangeData[\"TimeStamp\"].shift(-1)\n",
        "StatusChangeData.at[StatusChangeData.index[0], 'TimeStamp'] = proba_data.at[proba_data.index[0], 'TimeStamp']\n",
        "StatusChangeData.at[StatusChangeData.index[-1], 'TimeDiff'] = proba_data.at[proba_data.index[-1], 'TimeStamp']\n",
        "StatusChangeData[\"TimeDiff\"] = StatusChangeData[\"TimeDiff\"] - StatusChangeData[\"TimeStamp\"]\n",
        "statusone = StatusChangeData[StatusChangeData[\"Status\"]==1]\n",
        "summa = statusone['TimeDiff'].sum()\n",
        "statuszero = StatusChangeData[StatusChangeData[\"Status\"]==0]\n",
        "summazero = statuszero['TimeDiff'].sum()\n",
        "#StatusChangeData =StatusChangeData.drop(columns = [\"TimeDiff\"])\n",
        "#StatusChangeData do feat stavljeno sve u ovu celiju"
      ],
      "execution_count": 0,
      "outputs": [
        {
          "output_type": "stream",
          "text": [
            "time: 118 ms\n"
          ],
          "name": "stdout"
        },
        {
          "output_type": "stream",
          "text": [
            "/usr/local/lib/python3.6/dist-packages/ipykernel_launcher.py:2: SettingWithCopyWarning: \n",
            "A value is trying to be set on a copy of a slice from a DataFrame.\n",
            "Try using .loc[row_indexer,col_indexer] = value instead\n",
            "\n",
            "See the caveats in the documentation: http://pandas.pydata.org/pandas-docs/stable/indexing.html#indexing-view-versus-copy\n",
            "  \n",
            "/usr/local/lib/python3.6/dist-packages/ipykernel_launcher.py:5: SettingWithCopyWarning: \n",
            "A value is trying to be set on a copy of a slice from a DataFrame.\n",
            "Try using .loc[row_indexer,col_indexer] = value instead\n",
            "\n",
            "See the caveats in the documentation: http://pandas.pydata.org/pandas-docs/stable/indexing.html#indexing-view-versus-copy\n",
            "  \"\"\"\n"
          ],
          "name": "stderr"
        }
      ]
    },
    {
      "cell_type": "markdown",
      "metadata": {
        "id": "nVrCQxJHh4hP",
        "colab_type": "text"
      },
      "source": [
        "28 prelazaka iz papira u zrak i obratno. 28 poteza u zraku i 29 na papiru?"
      ]
    },
    {
      "cell_type": "code",
      "metadata": {
        "id": "uZT1mZIls6lQ",
        "colab_type": "code",
        "outputId": "227d0feb-e9d6-4288-c739-ed11f6d18026",
        "colab": {
          "base_uri": "https://localhost:8080/",
          "height": 35
        }
      },
      "source": [
        "feat = pd.DataFrame(columns = [\"TotalTime\" , \"TimeOnPaper\", \"TimeInAir\", \"AvgPressure\", \"DiffPressure\", \"StrokesInAir\", \"StrokesOnPaper\", \"PerStrInAir\",\"PerStrOnPaper\",\"VelAir\", \"VelPaper\" ])\n",
        "feat = feat.append({\"TotalTime\":time , \"TimeOnPaper\":summa, \"TimeInAir\":summazero, \"AvgPressure\":press_mean, \"DiffPressure\":press_max - press_min, \"StrokesInAir\":stroke_air, \"StrokesOnPaper\":stroke_paper, \"VelAir\":brzina_paper, \"VelPaper\":brzina_zrak, \"PerStrOnPaper\":PerOnPaper, \"PerStrInAir\":PerInAir}, ignore_index = True)\n",
        "if proba_data.at[proba_data.index[0], 'TimeStamp']==1:\n",
        "  feat.at[feat.index[0],\"StrokesOnPaper\"] = feat.at[feat.index[0],\"StrokesOnPaper\"] + 1\n",
        "else:\n",
        "  feat.at[feat.index[0],\"StrokesInAir\"] = feat.at[feat.index[0],\"StrokesInAir\"] + 1"
      ],
      "execution_count": 0,
      "outputs": [
        {
          "output_type": "stream",
          "text": [
            "time: 23 ms\n"
          ],
          "name": "stdout"
        }
      ]
    },
    {
      "cell_type": "code",
      "metadata": {
        "id": "OF9N7hXbws5B",
        "colab_type": "code",
        "outputId": "7e0ea02f-a4e2-4e80-efd3-03b2a4cdc23c",
        "colab": {
          "base_uri": "https://localhost:8080/",
          "height": 119
        }
      },
      "source": [
        "feat"
      ],
      "execution_count": 0,
      "outputs": [
        {
          "output_type": "execute_result",
          "data": {
            "text/html": [
              "<div>\n",
              "<style scoped>\n",
              "    .dataframe tbody tr th:only-of-type {\n",
              "        vertical-align: middle;\n",
              "    }\n",
              "\n",
              "    .dataframe tbody tr th {\n",
              "        vertical-align: top;\n",
              "    }\n",
              "\n",
              "    .dataframe thead th {\n",
              "        text-align: right;\n",
              "    }\n",
              "</style>\n",
              "<table border=\"1\" class=\"dataframe\">\n",
              "  <thead>\n",
              "    <tr style=\"text-align: right;\">\n",
              "      <th></th>\n",
              "      <th>TotalTime</th>\n",
              "      <th>TimeOnPaper</th>\n",
              "      <th>TimeInAir</th>\n",
              "      <th>AvgPressure</th>\n",
              "      <th>DiffPressure</th>\n",
              "      <th>StrokesInAir</th>\n",
              "      <th>StrokesOnPaper</th>\n",
              "      <th>PerStrInAir</th>\n",
              "      <th>PerStrOnPaper</th>\n",
              "      <th>VelAir</th>\n",
              "      <th>VelPaper</th>\n",
              "    </tr>\n",
              "  </thead>\n",
              "  <tbody>\n",
              "    <tr>\n",
              "      <th>0</th>\n",
              "      <td>38359.0</td>\n",
              "      <td>20230.0</td>\n",
              "      <td>18129.0</td>\n",
              "      <td>334.248314</td>\n",
              "      <td>594.0</td>\n",
              "      <td>29.0</td>\n",
              "      <td>28.0</td>\n",
              "      <td>0.481177</td>\n",
              "      <td>0.518823</td>\n",
              "      <td>3.275331</td>\n",
              "      <td>5.283136</td>\n",
              "    </tr>\n",
              "  </tbody>\n",
              "</table>\n",
              "</div>"
            ],
            "text/plain": [
              "   TotalTime  TimeOnPaper  TimeInAir  ...  PerStrOnPaper    VelAir  VelPaper\n",
              "0    38359.0      20230.0    18129.0  ...       0.518823  3.275331  5.283136\n",
              "\n",
              "[1 rows x 11 columns]"
            ]
          },
          "metadata": {
            "tags": []
          },
          "execution_count": 19
        },
        {
          "output_type": "stream",
          "text": [
            "time: 26.8 ms\n"
          ],
          "name": "stdout"
        }
      ]
    },
    {
      "cell_type": "code",
      "metadata": {
        "id": "EBt-dyzVujOH",
        "colab_type": "code",
        "colab": {}
      },
      "source": [
        "#feat.to_csv(file_name, header=False, mode = 'a') izracunajmo znacajke za taj zadatak i stavljamo na kraj datoteke file_name"
      ],
      "execution_count": 0,
      "outputs": []
    }
  ]
}